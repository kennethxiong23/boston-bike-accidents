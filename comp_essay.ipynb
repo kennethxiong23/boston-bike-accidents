{
 "cells": [
  {
   "cell_type": "code",
   "execution_count": 3,
   "metadata": {},
   "outputs": [],
   "source": [
    "%load_ext autoreload\n",
    "%autoreload 2"
   ]
  },
  {
   "cell_type": "code",
   "execution_count": null,
   "metadata": {},
   "outputs": [],
   "source": [
    "import accidents_by_lane\n",
    "accidents_url = (\"https://data.boston.gov/api/3/action/datastore_search?resource_id\"\n",
    "    + \"=e4bfe397-6bfc-49c5-9367-c879fac7401d&limit=49000\")\n",
    "bike_lane_url = (\"https://data.boston.gov/api/3/action/datastore_search?resource_id\" +\n",
    "       \"=14e7e1a7-ffe0-4ae7-a6b4-3975fa32e879&limit=49000\")\n",
    "accidents_by_lane.visualize_data(accidents_url, bike_lane_url)"
   ]
  }
 ],
 "metadata": {
  "kernelspec": {
   "display_name": "base",
   "language": "python",
   "name": "python3"
  },
  "language_info": {
   "codemirror_mode": {
    "name": "ipython",
    "version": 3
   },
   "file_extension": ".py",
   "mimetype": "text/x-python",
   "name": "python",
   "nbconvert_exporter": "python",
   "pygments_lexer": "ipython3",
   "version": "3.11.5"
  }
 },
 "nbformat": 4,
 "nbformat_minor": 2
}
