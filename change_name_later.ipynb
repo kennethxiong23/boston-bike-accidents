{
 "cells": [
  {
   "cell_type": "code",
   "execution_count": 279,
   "metadata": {},
   "outputs": [
    {
     "name": "stdout",
     "output_type": "stream",
     "text": [
      "   index  _id             dispatch_ts mode_type location_type          street  \\\n",
      "0      3    4  2015-01-01 18:23:57+00      bike  Intersection            None   \n",
      "1     12   13  2015-01-02 22:27:44+00      bike        Street   KENSINGTON ST   \n",
      "2     26   27  2015-01-05 08:08:13+00      bike        Street      TERRACE ST   \n",
      "3     30   31  2015-01-05 12:00:18+00      bike        Street  DORCHESTER AVE   \n",
      "4    104  105  2015-01-12 13:28:03+00      bike  Intersection            None   \n",
      "\n",
      "           xstreet1     xstreet2               x_cord                y_cord  \\\n",
      "0          OLNEY ST    INWOOD ST  772710.480000000000  2936614.620000000000   \n",
      "1          DEAD END    ELMORE ST  766791.850000000000  2942087.730000000000   \n",
      "2      ALLEGHANY ST     CEDAR ST  764920.290000000000  2945047.130000000000   \n",
      "3          ADAMS ST     ADAMS ST  775335.450000000000  2935310.100000000000   \n",
      "4  COMMONWEALTH AVE  HARVARD AVE  755895.540000000000  2952987.130000000000   \n",
      "\n",
      "                lat               long  \n",
      "0  42.3054120861493  -71.0691636152633  \n",
      "1  42.3206222019084  -71.0910948793814  \n",
      "2  42.3287336672082  -71.0980526437403  \n",
      "3  42.3018258012193  -71.0597165271511  \n",
      "4   42.350555351518  -71.1310621717994  \n"
     ]
    }
   ],
   "source": [
    "import folium\n",
    "\n",
    "import helpers\n",
    "import pandas as pd\n",
    "\n",
    "URL = (\n",
    "    \"https://data.boston.gov/api/3/action/datastore_search?resource_id\"\n",
    "    + \"=e4bfe397-6bfc-49c5-9367-c879fac7401d&limit=49000\"\n",
    ")\n",
    "\n",
    "helpers.pull_data(URL, \"bike_data\")\n",
    "\n",
    "bike_data = pd.DataFrame(helpers.load_data(\"/bike_data.json\")[\"records\"])\n",
    "bike_data = bike_data[bike_data[\"mode_type\"] == 'bike'].reset_index()\n",
    "bike_data.to_csv(\"out_bike.csv\")\n",
    "\n",
    "GEOJSON_PATH = \"data/City_of_Boston_Boundary_(Water_Excluded).geojson\"\n",
    "print(bike_data.head())\n",
    "m = folium.Map(location=[42.3601, -71.0589], zoom_start=12, tiles='CartoDB positron')\n",
    "\n",
    "folium.GeoJson(GEOJSON_PATH, name=\"boston\").add_to(m)\n",
    "\n",
    "points = [(row['lat'], row['long']) for index, row in bike_data.iterrows()]\n",
    "\n"
   ]
  },
  {
   "cell_type": "code",
   "execution_count": null,
   "metadata": {},
   "outputs": [],
   "source": [
    "\n",
    "for point in points:\n",
    "    folium.Marker(location=point).add_to(m)\n",
    "\n",
    "m"
   ]
  },
  {
   "cell_type": "code",
   "execution_count": 280,
   "metadata": {},
   "outputs": [],
   "source": [
    "\n",
    "import matplotlib.pyplot as plt\n",
    "URL = (\"https://data.boston.gov/api/3/action/datastore_search?resource_id\" +\n",
    "       \"=14e7e1a7-ffe0-4ae7-a6b4-3975fa32e879&limit=49000\")\n",
    "helpers.pull_data(URL, \"bike_lane_data\")\n",
    "bike_lane_data = pd.DataFrame(helpers.load_data(\"/bike_lane_data.json\")[\"records\"])\n",
    "bike_lane_data[\"STREET_NAM\"] = bike_lane_data[\"STREET_NAM\"].str.upper()\n",
    "bike_lane_data.head()\n",
    "abbreviations = {'NORTH': 'N', \n",
    "                     'SOUTH': 'S', \n",
    "                     'EAST': 'E', \n",
    "                     'WEST': 'W', \n",
    "                     'STREET': 'ST', \n",
    "                     'ROAD': 'RD', \n",
    "                     'AVENUE': 'AVE',\n",
    "                     'PARKWAY' : 'PKWY',\n",
    "                     'BOULEVARD' : 'BLVD',\n",
    "                     'DRIVE' : \"DR\",\n",
    "                     }\n",
    "#abbreviating street names in dataset to make that of the bike lane dataset\n",
    "for row_index in  range(len(bike_lane_data[\"STREET_NAM\"])) :\n",
    "       street_list = bike_lane_data[\"STREET_NAM\"][row_index].split()\n",
    "       for street_index in range(len(street_list)):\n",
    "              word = street_list[street_index]\n",
    "              if word in abbreviations.keys():\n",
    "                     street_list[street_index] = abbreviations[word]\n",
    "       bike_lane_data.at[row_index, \"STREET_NAM\"] = \" \".join(street_list)\n",
    "#abbreviating street names in dataset to make that of the accident dataset\n",
    "for row_index in  range(len(bike_data[\"street\"])) :\n",
    "       if bike_data[\"street\"][row_index] != None:\n",
    "              street_list = bike_data[\"street\"][row_index].split()\n",
    "              for street_index in range(len(street_list)):\n",
    "                     word = street_list[street_index]\n",
    "                     if word in abbreviations.keys():\n",
    "                            street_list[street_index] = abbreviations[word]\n",
    "              bike_data.at[row_index, \"street\"] = \" \".join(street_list)\n",
    "       if bike_data[\"xstreet1\"][row_index] != None:\n",
    "              street_list = bike_data[\"xstreet1\"][row_index].split()\n",
    "              for street_index in range(len(street_list)):\n",
    "                     word = street_list[street_index]\n",
    "                     if word in abbreviations.keys():\n",
    "                            street_list[street_index] = abbreviations[word]\n",
    "              bike_data.at[row_index, \"xstreet1\"] = \" \".join(street_list)\n",
    "       if bike_data[\"xstreet2\"][row_index] != None:\n",
    "              street_list = bike_data[\"xstreet2\"][row_index].split()\n",
    "              for street_index in range(len(street_list)):\n",
    "                     word = street_list[street_index]\n",
    "                     if word in abbreviations.keys():\n",
    "                            street_list[street_index] = abbreviations[word]\n",
    "              bike_data.at[row_index, \"xstreet2\"] = \" \".join(street_list) \n"
   ]
  },
  {
   "cell_type": "code",
   "execution_count": 392,
   "metadata": {},
   "outputs": [],
   "source": [
    "lane_type_dict = {\n",
    "    'intersection' : 0,\n",
    "    'none' : 0,\n",
    "}\n",
    "#lane_type_dict = dict(sorted(lane_type_dict.items(), key=lambda item: item[1], reverse=True))\n",
    "              "
   ]
  },
  {
   "cell_type": "code",
   "execution_count": 393,
   "metadata": {},
   "outputs": [],
   "source": [
    "#first add intersections and other crashes\n",
    "intersection_crash_df = bike_data[bike_data[\"location_type\"] == \"Intersection\"]\n",
    "other_crash_df = bike_data[bike_data[\"location_type\"] == \"Other\"]\n",
    "lane_type_dict['intersection'] = intersection_crash_df.shape[0]\n",
    "lane_type_dict['other'] = other_crash_df.shape[0]"
   ]
  },
  {
   "cell_type": "code",
   "execution_count": 394,
   "metadata": {},
   "outputs": [],
   "source": [
    "import geopandas as gpd\n",
    "from shapely.geometry import Point\n",
    "# crashes = gpd.read_file('data/bike_data.json')\n",
    "#convert bike_data.json into geojson\n",
    "\n",
    "\n",
    "bike_lanes = gpd.read_file('data/Existing_Bike_Network_2023.geojson')\n",
    "\n"
   ]
  },
  {
   "cell_type": "code",
   "execution_count": 395,
   "metadata": {},
   "outputs": [
    {
     "name": "stdout",
     "output_type": "stream",
     "text": [
      "787\n",
      "787\n"
     ]
    },
    {
     "name": "stderr",
     "output_type": "stream",
     "text": [
      "/var/folders/_y/9rdlw_714cz97090d459lrgm0000gn/T/ipykernel_86394/2020395075.py:18: UserWarning: Geometry is in a geographic CRS. Results from 'buffer' are likely incorrect. Use 'GeoSeries.to_crs()' to re-project geometries to a projected CRS before this operation.\n",
      "\n",
      "  crashes_gdf['geometry'] = crashes_gdf.geometry.buffer(0.000127)\n"
     ]
    }
   ],
   "source": [
    "#find street crashes that don't occur in bike lanes\n",
    "street_crash_df = bike_data[bike_data[\"location_type\"] == \"Street\"].reset_index()\n",
    "remove_index_list = []\n",
    "for row_index in range(len(street_crash_df[\"street\"])):\n",
    "    if street_crash_df[\"street\"][row_index] not in bike_lane_data[\"STREET_NAM\"].values:\n",
    "        lane_type_dict['none'] += 1\n",
    "        remove_index_list.append(row_index)\n",
    "filtered_street_crash_df = street_crash_df.drop(remove_index_list)\n",
    "print(len(filtered_street_crash_df[\"street\"]))\n",
    "geometry = [Point(xy) for xy in zip(filtered_street_crash_df['long'], \n",
    "                                    filtered_street_crash_df['lat'])]\n",
    "\n",
    "crashes_gdf = gpd.GeoDataFrame(\n",
    "                            filtered_street_crash_df, \n",
    "                           crs='EPSG:4326', \n",
    "                           geometry=geometry\n",
    "                           )\n",
    "crashes_gdf['geometry'] = crashes_gdf.geometry.buffer(0.000127)\n",
    "street_crash_gdf = gpd.sjoin(bike_lanes, crashes_gdf, how = 'inner', predicate='intersects')\n",
    "street_crash_gdf.drop_duplicates(subset=['STREET_NAM', 'ExisFacil', \"_id\"])\n",
    "print(street_crash_gdf.shape[0])"
   ]
  },
  {
   "cell_type": "code",
   "execution_count": 396,
   "metadata": {},
   "outputs": [],
   "source": [
    "#count how many accidents are in which type of bike lane\n",
    "accident_occurences = street_crash_gdf[\"ExisFacil\"].value_counts()\n",
    "for index in range(len(accident_occurences)):\n",
    "    lane_type_dict[accident_occurences.index[index]] = accident_occurences[index]"
   ]
  },
  {
   "cell_type": "code",
   "execution_count": 424,
   "metadata": {},
   "outputs": [
    {
     "name": "stdout",
     "output_type": "stream",
     "text": [
      "ExisFacil\n",
      "\b                 61.891669\n",
      "BFBL           16041.422496\n",
      "BL            100935.005756\n",
      "BL-PEAKBUS      1454.514263\n",
      "BLSL           14161.198401\n",
      "CFBL            1938.809904\n",
      "CFSBL            138.165426\n",
      "PED              852.378090\n",
      "SBL            32985.018107\n",
      "SBLBL           1717.480680\n",
      "SBLSL            818.212242\n",
      "SLM            71973.056280\n",
      "SLMTC           8280.257589\n",
      "SUP            81514.839066\n",
      "SUPM           31814.677975\n",
      "SUPN            3728.943225\n",
      "WALK            2083.991330\n",
      "Name: Shape_Leng, dtype: float64\n",
      "6161766.11129109\n"
     ]
    }
   ],
   "source": [
    "#normalize data to reflect different percentages of bike lanes + no bike lanes\n",
    "URL = (\n",
    "    \"https://data.boston.gov/api/3/action/datastore_search?resource_id=\" + \n",
    "       \"6fa7932b-7bc8-42bc-9250-168d5f5dc1ad&limit=49000\"\n",
    "       )\n",
    "helpers.pull_data(URL, \"/road_data\")\n",
    "road_data = pd.DataFrame(helpers.load_data(\"/road_data.json\")[\"records\"])\n",
    "total_length = road_data[\"SHAPESTLength\"].astype(float).sum()\n",
    "bike_lane_data['Shape_Leng'] = bike_lane_data['Shape_Leng'].astype(float)\n",
    "bike_lane_lengths = bike_lane_data.groupby('ExisFacil')['Shape_Leng'].sum()\n",
    "bike_lane_percents = bike_lane_lengths/total_length\n"
   ]
  },
  {
   "cell_type": "code",
   "execution_count": 489,
   "metadata": {},
   "outputs": [
    {
     "name": "stdout",
     "output_type": "stream",
     "text": [
      "ExisFacil\n",
      "\b             0.000010\n",
      "BFBL          0.002603\n",
      "BL            0.016381\n",
      "BL-PEAKBUS    0.000236\n",
      "BLSL          0.002298\n",
      "CFBL          0.000315\n",
      "CFSBL         0.000022\n",
      "PED           0.000138\n",
      "SBL           0.005353\n",
      "SBLBL         0.000279\n",
      "SBLSL         0.000133\n",
      "SLM           0.011681\n",
      "SLMTC         0.001344\n",
      "SUP           0.013229\n",
      "SUPM          0.005163\n",
      "SUPN          0.000605\n",
      "WALK          0.000338\n",
      "Name: Shape_Leng, dtype: float64\n",
      "0.060128842251877576\n"
     ]
    }
   ],
   "source": [
    "print(bike_lane_percents)\n",
    "print(bike_lane_percents.sum())\n",
    "\n",
    "normal_lane_dict = {}\n",
    "for index in bike_lane_percents.index:\n",
    "    if index in lane_type_dict.keys():\n",
    "        normal_lane_dict [index] = bike_lane_percents[index]\n",
    "non_bike_lane_sum = lane_type_dict['intersection'] + lane_type_dict['none'] +  lane_type_dict['other']\n",
    "non_bike_lane_percent = (1-sum(bike_lane_percents.values)) / non_bike_lane_sum\n",
    "normal_lane_dict['intersection'] = lane_type_dict['intersection'] * non_bike_lane_percent\n",
    "normal_lane_dict['none'] = lane_type_dict['none'] * non_bike_lane_percent\n",
    "normal_lane_dict['other'] = lane_type_dict['other'] * non_bike_lane_percent\n",
    "lane_percent_dict = {}\n",
    "for key in lane_type_dict.keys():\n",
    "    lane_percent_dict[key] = lane_type_dict[key]/sum(lane_type_dict.values())\n",
    "normal_lane_dict = dict(sorted(normal_lane_dict.items(), key=lambda item: item[1], reverse=True))\n",
    "lane_percent_dict = {key: lane_type_dict[key] for key in normal_lane_dict}\n"
   ]
  },
  {
   "cell_type": "code",
   "execution_count": 498,
   "metadata": {},
   "outputs": [
    {
     "name": "stdout",
     "output_type": "stream",
     "text": [
      "{'intersection': 0.6626949373555446, 'none': 0.2514448774571106, 'other': 0.02573134293546733, 'BL': 0.016380856386400185, 'SUP': 0.013229135542186713, 'SLM': 0.011680588808495972, 'SBL': 0.00535317594190858, 'SUPM': 0.005163240116611832, 'BFBL': 0.0026033806227587727, 'BLSL': 0.002298236925063212, 'SLMTC': 0.0013438123810209696, 'SUPN': 0.0006051744187719039, 'CFBL': 0.00031465165490993563, 'SBLBL': 0.000278731884494076, 'BL-PEAKBUS': 0.00023605476695278717, 'PED': 0.0001383334055188974, 'SBLSL': 0.00013278859137739291}\n"
     ]
    },
    {
     "data": {
      "image/png": "[encoded data removed]",
      "text/plain": [
       "<Figure size 1500x1500 with 1 Axes>"
      ]
     },
     "metadata": {},
     "output_type": "display_data"
    }
   ],
   "source": [
    "print(normal_lane_dict)\n",
    "plt.figure(figsize=(15,15))\n",
    "r = list(normal_lane_dict.values())\n",
    "\n",
    "norm_vals = plt.bar(list(normal_lane_dict.keys()), list(normal_lane_dict.values()), edgecolor='white')\n",
    "vals = plt.bar(list(normal_lane_dict.keys()), list(lane_percent_dict.values()))\n",
    "plt.legend([\"Nominal Percentages\", \"Expected Percentages\"])\n",
    "for bar in vals:\n",
    "    yval = bar.get_height()\n",
    "    plt.text(bar.get_x() + bar.get_width()/2, yval, round(yval, 3), ha='center', va='bottom')\n",
    "for bar in norm_vals:\n",
    "    yval = bar.get_height()\n",
    "    plt.text(bar.get_x() + bar.get_width()/2, yval, round(yval, 3), ha='center', va='bottom')\n",
    "\n",
    "#plt.bar(list(normal_lane_dict.keys()), list(normal_lane_dict.values()))"
   ]
  }
 ],
 "metadata": {
  "kernelspec": {
   "display_name": "base",
   "language": "python",
   "name": "python3"
  },
  "language_info": {
   "codemirror_mode": {
    "name": "ipython",
    "version": 3
   },
   "file_extension": ".py",
   "mimetype": "text/x-python",
   "name": "python",
   "nbconvert_exporter": "python",
   "pygments_lexer": "ipython3",
   "version": "3.11.5"
  }
 },
 "nbformat": 4,
 "nbformat_minor": 2
}
